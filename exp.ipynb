{
 "metadata": {
  "language_info": {
   "codemirror_mode": {
    "name": "ipython",
    "version": 3
   },
   "file_extension": ".py",
   "mimetype": "text/x-python",
   "name": "python",
   "nbconvert_exporter": "python",
   "pygments_lexer": "ipython3",
   "version": "3.7.4-final"
  },
  "orig_nbformat": 2,
  "kernelspec": {
   "name": "python3",
   "display_name": "Python 3.7.4 64-bit ('base': conda)",
   "metadata": {
    "interpreter": {
     "hash": "ad5c119354b5158b483e530ead65be8a1bb28e4331f34b827dc309a6a2790ca5"
    }
   }
  }
 },
 "nbformat": 4,
 "nbformat_minor": 2,
 "cells": [
  {
   "source": [
    "Trying Jaro Winkler distance:\n"
   ],
   "cell_type": "markdown",
   "metadata": {}
  },
  {
   "cell_type": "code",
   "execution_count": 1,
   "metadata": {},
   "outputs": [
    {
     "output_type": "stream",
     "name": "stdout",
     "text": [
      "Collecting jellyfish\n",
      "\u001b[?25l  Downloading https://files.pythonhosted.org/packages/04/3f/d03cb056f407ef181a45569255348457b1a0915fc4eb23daeceb930a68a4/jellyfish-0.8.2.tar.gz (134kB)\n",
      "\u001b[K     |████████████████████████████████| 143kB 2.9MB/s \n",
      "\u001b[?25hBuilding wheels for collected packages: jellyfish\n",
      "  Building wheel for jellyfish (setup.py) ... \u001b[?25ldone\n",
      "\u001b[?25h  Created wheel for jellyfish: filename=jellyfish-0.8.2-cp37-cp37m-linux_x86_64.whl size=87721 sha256=74c9a7eee52d400d94b020c2c7cabd86ed48a0698c3297cd5c527228556416bd\n",
      "  Stored in directory: /home/priyank/.cache/pip/wheels/d1/05/e5/b4b538a51196fbe8fb7693efffe2a98a8550e4200dc19b0fe9\n",
      "Successfully built jellyfish\n",
      "Installing collected packages: jellyfish\n",
      "Successfully installed jellyfish-0.8.2\n"
     ]
    }
   ],
   "source": [
    "!pip install jellyfish"
   ]
  },
  {
   "cell_type": "code",
   "execution_count": 2,
   "metadata": {},
   "outputs": [
    {
     "output_type": "execute_result",
     "data": {
      "text/plain": [
       "0.7435897435897436"
      ]
     },
     "metadata": {},
     "execution_count": 2
    }
   ],
   "source": [
    "from jellyfish import jaro_winkler\n",
    "def name_similarity(left_record, right_record):\n",
    "    return jaro_winkler(left_record or '', right_record or '')\n",
    "\n",
    "name_similarity('Marks Spencer','M S')"
   ]
  },
  {
   "source": [
    "Trying spacy for NER"
   ],
   "cell_type": "markdown",
   "metadata": {}
  },
  {
   "cell_type": "code",
   "execution_count": null,
   "metadata": {},
   "outputs": [],
   "source": [
    "import spacy\n",
    "from spacy import displacy\n",
    "from collections import Counter\n",
    "import en_core_web_sm\n",
    "import pprint\n",
    "nlp = en_core_web_sm.load()"
   ]
  },
  {
   "cell_type": "code",
   "execution_count": null,
   "metadata": {},
   "outputs": [],
   "source": [
    "# company names\n",
    "doc = nlp(\"33 TIMBER YARD,LONDON, L1 8XY\")\n",
    "for x in doc.ents:\n",
    "    print(x.text, x.label_)"
   ]
  }
 ]
}